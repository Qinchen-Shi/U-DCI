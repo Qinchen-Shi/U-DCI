{
 "cells": [
  {
   "cell_type": "code",
   "execution_count": 1,
   "metadata": {},
   "outputs": [],
   "source": [
    "import torch\n",
    "import torch.nn as nn\n",
    "import numpy as np\n",
    "from sklearn.cluster import KMeans\n",
    "import torch.optim as optim\n",
    "from sklearn import metrics\n",
    "from tqdm import tqdm\n",
    "\n",
    "from util import load_data, load_graph\n",
    "from models.udci import U_DCI\n",
    "from models.clf_model import Classifier"
   ]
  },
  {
   "cell_type": "code",
   "execution_count": 2,
   "metadata": {},
   "outputs": [],
   "source": [
    "def setup_seed(seed):\n",
    "    np.random.seed(seed)\n",
    "    torch.manual_seed(seed)\n",
    "    torch.cuda.manual_seed_all(seed)\n",
    "    torch.backends.cudnn.deterministic = True\n",
    "    torch.backends.cudnn.benchmark = True\n"
   ]
  },
  {
   "cell_type": "code",
   "execution_count": 3,
   "metadata": {},
   "outputs": [],
   "source": [
    "def finetune(config_udci, config_emb, model_pretrain, device, test_graph, feats_num, attention):\n",
    "    model = Classifier(config_udci['emb_module'], config_udci['hidden_dim'], config_udci['final_dropout'], config_emb, attention, device).to(device)\n",
    "    # emb_module, hidden_dim, final_dropout, config_emb\n",
    "    # replace the encoder in joint model with the pre-trained encoder，把外面训练好的CDI导进来，这个视角encoder吗\n",
    "    pretrained_dict = model_pretrain.state_dict()   # state_dict()是pytorch里调用所有参数信息的函数，这里是把DCI的参数信息存起来\n",
    "    model_dict = model.state_dict() #这里就是吧Classifier的参数信息存起来\n",
    "    pretrained_dict =  {k: v for k, v in pretrained_dict.items() if k in model_dict}    # 只留下Classifier里有的字段的DCI的参数信息，为了防止下一步错叭\n",
    "    model_dict.update(pretrained_dict)  # 这两步就是把Classifier的参数信息更新成DCI的参数信息\n",
    "    model.load_state_dict(model_dict)\n",
    "\n",
    "    optimizer = optim.Adam(model.parameters(), config_udci['lr'])  # 优化器的意思应该是反向传播的那个，不要纠结细节上次学过了虽然我知道你忘了\n",
    "    \n",
    "    criterion_tune = nn.BCEWithLogitsLoss() # 二分类的交叉熵损失函数\n",
    "\n",
    "    res = []\n",
    "    train_idx = test_graph[2]\n",
    "    node_train = test_graph[-1][train_idx, 0].astype('int')\n",
    "    label_train = torch.FloatTensor(test_graph[-1][train_idx, 1]).to(device)\n",
    "    progress_bar2 = tqdm(total = config_udci['finetune_epochs'])\n",
    "    for i in range(1, config_udci['finetune_epochs']+1):  # 这一段应该就是在训练\n",
    "        model.train()\n",
    "        output = model(test_graph[0], test_graph[1])\n",
    "        loss = criterion_tune(output[node_train], torch.reshape(label_train, (-1, 1)))\n",
    "        # print(f'Epoch: {i} | Loss: {loss}')\n",
    "        \n",
    "        #backprop\n",
    "        if optimizer is not None:\n",
    "            optimizer.zero_grad()\n",
    "            loss.backward()\n",
    "            optimizer.step()\n",
    "\n",
    "        progress_bar2.set_description(f'Epoch: {i}/{config_udci[\"finetune_epochs\"]}')\n",
    "        progress_bar2.update()\n",
    "        \n",
    "        # testing\n",
    "        model.eval()    # 设成eval模式\n",
    "        auc = evaluate(model, test_graph)\n",
    "        res.append(auc)\n",
    "\n",
    "    return np.max(res)  # 返回最大的auc"
   ]
  },
  {
   "cell_type": "code",
   "execution_count": 4,
   "metadata": {},
   "outputs": [],
   "source": [
    "def evaluate(model, test_graph):\n",
    "    output = model(test_graph[0], test_graph[1])    #预测结果，其中0和1分别是adj和features，顺序记得确认一下\n",
    "    pred = sig(output.detach().cpu())   # 用激活函数压缩一下然后结果传到cpu上\n",
    "    test_idx = test_graph[3]    # 这个idx具体指什么要看model，我猜是abnormal data的idx\n",
    "    \n",
    "    labels = test_graph[-1] # 那么labels我猜就是abnormal data的label\n",
    "    pred = pred[labels[test_idx, 0].astype('int')].numpy()  # 不知道了这里回头再来看吧\n",
    "    target = labels[test_idx, 1]\n",
    "    \n",
    "    false_positive_rate, true_positive_rate, _ = metrics.roc_curve(target, pred, pos_label=1)\n",
    "    auc = metrics.auc(false_positive_rate, true_positive_rate)  # auc越接近1越好\n",
    "\n",
    "    return auc"
   ]
  },
  {
   "cell_type": "code",
   "execution_count": 5,
   "metadata": {},
   "outputs": [],
   "source": [
    "# set parameters for U_DCI\n",
    "config_udci = {\n",
    "    'dataset': 'wiki',                      # name of dataset\n",
    "    'device': 0,                            # which gpu to use if any\n",
    "    'epochs': 100,                          # number of epochs in pre-training stage\n",
    "    'num_cluster': 20,                      # number of clusters in pre-training stage\n",
    "    'recluster_interval': 20,               # recluster interval in pre-training stage\n",
    "    'finetune_epochs': 200,                 # number of epochs in finetune stage\n",
    "    'num_folds': 10,                        # number of folds in cross validation of finetune stage\n",
    "    'final_dropout': 0.5,                   # dropout rate used in finetune stage\n",
    "    'lr': 0.005,                            # learning rate used in optimizer\n",
    "    'hidden_dim': 16,                       # number of hidden dims, used in Discriminator, must equal out dimension of confit_emb\n",
    "    'training_scheme': 'decoupled',         # 'decoupled' or 'joint'\n",
    "    'attention_scheme': False,              # True or False\n",
    "    'emb_module': 'GraphSAGE'                   # 'U_GCN', 'GIN', 'GCN', 'GraphSAGE', 'GAT'\n",
    "}"
   ]
  },
  {
   "cell_type": "code",
   "execution_count": 6,
   "metadata": {},
   "outputs": [],
   "source": [
    "# set hyperparameters for embedding module\n",
    "#U_GCN\n",
    "if config_udci['emb_module'] == 'U_GCN':\n",
    "    config_emb = {\n",
    "        'out_features': 16,     # number of feature dims generated by one attention head, used in GraphAttention\n",
    "        'alpha': 0.2,           # slope of leakyReLU, used in GraphAttention\n",
    "        'final_features': 16,   # number of feature dims integrated out of all attention heads, used in GraphAttention\n",
    "        'dropout': 0,         # customized dropout rate, used in GraphAttention & GAT \n",
    "        'nheads' : 8\n",
    "    }\n",
    "\n",
    "# GIN\n",
    "elif config_udci['emb_module'] == 'GIN':\n",
    "    config_emb = {\n",
    "        'num_layers': 2,        # default: 2\n",
    "        'num_mlp_layers': 2,    # default: 2\n",
    "        'hidden_dim': 16,       # default: 16\n",
    "        'neighbor_pooling_type': 'sum'\n",
    "    }\n",
    "\n",
    "# GCN\n",
    "elif config_udci['emb_module'] == 'GCN':\n",
    "    config_emb = {\n",
    "        'nhid': 32,         # default: 32\n",
    "        'out': 16,          # default: 16\n",
    "        'dropout': 0        # default: 0\n",
    "    }\n",
    "\n",
    "# GraphSAGE\n",
    "elif config_udci['emb_module'] == 'GraphSAGE':\n",
    "    config_emb = {\n",
    "        'nhid': 64,         # default: 64\n",
    "        'out': 16,          # default: 16\n",
    "        'dropout': 0      # default: 0.5\n",
    "    }\n",
    "\n",
    "# GAT\n",
    "elif config_udci['emb_module'] == 'GAT':\n",
    "    config_emb = {\n",
    "        'out_features': 64,         # default: 64\n",
    "        'final_features': 16,       # default: 16\n",
    "        'dropout': 0,               # default: 0.6\n",
    "        'alpha': 0.2,               # default: 0.2\n",
    "        'nheads' : 8                # default: 8\n",
    "    }\n",
    "\n",
    "#Attention\n",
    "#         # set attetnion heads"
   ]
  },
  {
   "cell_type": "code",
   "execution_count": 7,
   "metadata": {},
   "outputs": [
    {
     "name": "stdout",
     "output_type": "stream",
     "text": [
      "Load the edge_index done!\n"
     ]
    },
    {
     "name": "stderr",
     "output_type": "stream",
     "text": [
      "/Users/wo22153/Library/Python/3.9/lib/python/site-packages/sklearn/cluster/_kmeans.py:1412: FutureWarning: The default value of `n_init` will change from 10 to 'auto' in 1.4. Set the value of `n_init` explicitly to suppress the warning\n",
      "  super()._check_params_vs_input(X, default_n_init=10)\n"
     ]
    }
   ],
   "source": [
    "sig = torch.nn.Sigmoid()\n",
    "setup_seed(0)\n",
    "device = torch.device('cuda' if torch.cuda.is_available() else 'cpu')\n",
    "# device = torch.device('cpu')\n",
    "\n",
    "edge_index, feats, split_idx, label, nb_nodes = load_data(config_udci['dataset'], config_udci['num_folds'], 0.8)\n",
    "config_emb['input_dim'] = feats.shape[1]\n",
    "\n",
    "kmeans = KMeans(n_clusters=config_udci['num_cluster'], random_state=0).fit(feats)\n",
    "ss_label = kmeans.labels_\n",
    "cluster_info = [list(np.where(ss_label==i)[0]) for i in range(config_udci['num_cluster'])]\n",
    "\n",
    "idx = np.random.permutation(nb_nodes)\n",
    "shuf_feats = feats[idx, :]\n",
    "\n",
    "adj = load_graph(torch.LongTensor(edge_index), nb_nodes, config_udci['emb_module'], device)\n",
    "feats = torch.FloatTensor(feats).to(device)\n",
    "shuf_feats = torch.FloatTensor(shuf_feats).to(device)"
   ]
  },
  {
   "cell_type": "code",
   "execution_count": 8,
   "metadata": {},
   "outputs": [],
   "source": [
    "model_pretrain = U_DCI(config_udci['emb_module'], config_udci['hidden_dim'], config_emb, config_udci['attention_scheme'], device).to(device)\n",
    "optimizer_train = optim.Adam(model_pretrain.parameters(), lr=config_udci['lr'])\n",
    "\n",
    "store_loss = []\n"
   ]
  },
  {
   "cell_type": "code",
   "execution_count": 9,
   "metadata": {},
   "outputs": [
    {
     "name": "stderr",
     "output_type": "stream",
     "text": [
      "  0%|          | 0/100 [00:00<?, ?it/s]"
     ]
    },
    {
     "ename": "RuntimeError",
     "evalue": "mat1 and mat2 must have the same dtype",
     "output_type": "error",
     "traceback": [
      "\u001b[0;31m---------------------------------------------------------------------------\u001b[0m",
      "\u001b[0;31mRuntimeError\u001b[0m                              Traceback (most recent call last)",
      "Cell \u001b[0;32mIn[9], line 5\u001b[0m\n\u001b[1;32m      3\u001b[0m \u001b[39mfor\u001b[39;00m epoch \u001b[39min\u001b[39;00m \u001b[39mrange\u001b[39m(\u001b[39m1\u001b[39m, config_udci[\u001b[39m'\u001b[39m\u001b[39mepochs\u001b[39m\u001b[39m'\u001b[39m] \u001b[39m+\u001b[39m \u001b[39m1\u001b[39m):\n\u001b[1;32m      4\u001b[0m     model_pretrain\u001b[39m.\u001b[39mtrain()\n\u001b[0;32m----> 5\u001b[0m     loss_pretrain \u001b[39m=\u001b[39m model_pretrain(feats, shuf_feats, adj, \u001b[39mNone\u001b[39;49;00m, \u001b[39mNone\u001b[39;49;00m, \u001b[39mNone\u001b[39;49;00m, cluster_info, config_udci[\u001b[39m'\u001b[39;49m\u001b[39mnum_cluster\u001b[39;49m\u001b[39m'\u001b[39;49m])\n\u001b[1;32m      7\u001b[0m     \u001b[39mif\u001b[39;00m optimizer_train \u001b[39mis\u001b[39;00m \u001b[39mnot\u001b[39;00m \u001b[39mNone\u001b[39;00m:\n\u001b[1;32m      8\u001b[0m         optimizer_train\u001b[39m.\u001b[39mzero_grad()\n",
      "File \u001b[0;32m~/Library/Python/3.9/lib/python/site-packages/torch/nn/modules/module.py:1501\u001b[0m, in \u001b[0;36mModule._call_impl\u001b[0;34m(self, *args, **kwargs)\u001b[0m\n\u001b[1;32m   1496\u001b[0m \u001b[39m# If we don't have any hooks, we want to skip the rest of the logic in\u001b[39;00m\n\u001b[1;32m   1497\u001b[0m \u001b[39m# this function, and just call forward.\u001b[39;00m\n\u001b[1;32m   1498\u001b[0m \u001b[39mif\u001b[39;00m \u001b[39mnot\u001b[39;00m (\u001b[39mself\u001b[39m\u001b[39m.\u001b[39m_backward_hooks \u001b[39mor\u001b[39;00m \u001b[39mself\u001b[39m\u001b[39m.\u001b[39m_backward_pre_hooks \u001b[39mor\u001b[39;00m \u001b[39mself\u001b[39m\u001b[39m.\u001b[39m_forward_hooks \u001b[39mor\u001b[39;00m \u001b[39mself\u001b[39m\u001b[39m.\u001b[39m_forward_pre_hooks\n\u001b[1;32m   1499\u001b[0m         \u001b[39mor\u001b[39;00m _global_backward_pre_hooks \u001b[39mor\u001b[39;00m _global_backward_hooks\n\u001b[1;32m   1500\u001b[0m         \u001b[39mor\u001b[39;00m _global_forward_hooks \u001b[39mor\u001b[39;00m _global_forward_pre_hooks):\n\u001b[0;32m-> 1501\u001b[0m     \u001b[39mreturn\u001b[39;00m forward_call(\u001b[39m*\u001b[39;49margs, \u001b[39m*\u001b[39;49m\u001b[39m*\u001b[39;49mkwargs)\n\u001b[1;32m   1502\u001b[0m \u001b[39m# Do not call functions when jit is used\u001b[39;00m\n\u001b[1;32m   1503\u001b[0m full_backward_hooks, non_full_backward_hooks \u001b[39m=\u001b[39m [], []\n",
      "File \u001b[0;32m~/Codes/U-DCI/models/udci.py:50\u001b[0m, in \u001b[0;36mU_DCI.forward\u001b[0;34m(self, feats, shuf_feats, adj, msk, samp_bias1, samp_bias2, cluster_info, cluster_num)\u001b[0m\n\u001b[1;32m     49\u001b[0m \u001b[39mdef\u001b[39;00m \u001b[39mforward\u001b[39m(\u001b[39mself\u001b[39m, feats, shuf_feats, adj, msk, samp_bias1, samp_bias2, cluster_info, cluster_num):\n\u001b[0;32m---> 50\u001b[0m     h_1 \u001b[39m=\u001b[39m \u001b[39mself\u001b[39;49m\u001b[39m.\u001b[39;49mmodule(feats, adj)\n\u001b[1;32m     51\u001b[0m     h_2 \u001b[39m=\u001b[39m \u001b[39mself\u001b[39m\u001b[39m.\u001b[39mmodule(shuf_feats, adj)\n\u001b[1;32m     53\u001b[0m     loss \u001b[39m=\u001b[39m \u001b[39m0\u001b[39m\n",
      "File \u001b[0;32m~/Library/Python/3.9/lib/python/site-packages/torch/nn/modules/module.py:1501\u001b[0m, in \u001b[0;36mModule._call_impl\u001b[0;34m(self, *args, **kwargs)\u001b[0m\n\u001b[1;32m   1496\u001b[0m \u001b[39m# If we don't have any hooks, we want to skip the rest of the logic in\u001b[39;00m\n\u001b[1;32m   1497\u001b[0m \u001b[39m# this function, and just call forward.\u001b[39;00m\n\u001b[1;32m   1498\u001b[0m \u001b[39mif\u001b[39;00m \u001b[39mnot\u001b[39;00m (\u001b[39mself\u001b[39m\u001b[39m.\u001b[39m_backward_hooks \u001b[39mor\u001b[39;00m \u001b[39mself\u001b[39m\u001b[39m.\u001b[39m_backward_pre_hooks \u001b[39mor\u001b[39;00m \u001b[39mself\u001b[39m\u001b[39m.\u001b[39m_forward_hooks \u001b[39mor\u001b[39;00m \u001b[39mself\u001b[39m\u001b[39m.\u001b[39m_forward_pre_hooks\n\u001b[1;32m   1499\u001b[0m         \u001b[39mor\u001b[39;00m _global_backward_pre_hooks \u001b[39mor\u001b[39;00m _global_backward_hooks\n\u001b[1;32m   1500\u001b[0m         \u001b[39mor\u001b[39;00m _global_forward_hooks \u001b[39mor\u001b[39;00m _global_forward_pre_hooks):\n\u001b[0;32m-> 1501\u001b[0m     \u001b[39mreturn\u001b[39;00m forward_call(\u001b[39m*\u001b[39;49margs, \u001b[39m*\u001b[39;49m\u001b[39m*\u001b[39;49mkwargs)\n\u001b[1;32m   1502\u001b[0m \u001b[39m# Do not call functions when jit is used\u001b[39;00m\n\u001b[1;32m   1503\u001b[0m full_backward_hooks, non_full_backward_hooks \u001b[39m=\u001b[39m [], []\n",
      "File \u001b[0;32m~/Codes/U-DCI/layers/graphsage.py:37\u001b[0m, in \u001b[0;36mGraphSAGE.forward\u001b[0;34m(self, x, adj)\u001b[0m\n\u001b[1;32m     35\u001b[0m \u001b[39mdef\u001b[39;00m \u001b[39mforward\u001b[39m(\u001b[39mself\u001b[39m, x, adj):\n\u001b[1;32m     36\u001b[0m     x \u001b[39m=\u001b[39m F\u001b[39m.\u001b[39mdropout(x, \u001b[39mself\u001b[39m\u001b[39m.\u001b[39mdropout, training\u001b[39m=\u001b[39m\u001b[39mself\u001b[39m\u001b[39m.\u001b[39mtraining)\n\u001b[0;32m---> 37\u001b[0m     x \u001b[39m=\u001b[39m \u001b[39mself\u001b[39;49m\u001b[39m.\u001b[39;49msage1(x, adj)\n\u001b[1;32m     38\u001b[0m     x \u001b[39m=\u001b[39m F\u001b[39m.\u001b[39mdropout(x, \u001b[39mself\u001b[39m\u001b[39m.\u001b[39mdropout, training\u001b[39m=\u001b[39m\u001b[39mself\u001b[39m\u001b[39m.\u001b[39mtraining)\n\u001b[1;32m     39\u001b[0m     x \u001b[39m=\u001b[39m \u001b[39mself\u001b[39m\u001b[39m.\u001b[39msage2(x, adj)\n",
      "File \u001b[0;32m~/Library/Python/3.9/lib/python/site-packages/torch/nn/modules/module.py:1501\u001b[0m, in \u001b[0;36mModule._call_impl\u001b[0;34m(self, *args, **kwargs)\u001b[0m\n\u001b[1;32m   1496\u001b[0m \u001b[39m# If we don't have any hooks, we want to skip the rest of the logic in\u001b[39;00m\n\u001b[1;32m   1497\u001b[0m \u001b[39m# this function, and just call forward.\u001b[39;00m\n\u001b[1;32m   1498\u001b[0m \u001b[39mif\u001b[39;00m \u001b[39mnot\u001b[39;00m (\u001b[39mself\u001b[39m\u001b[39m.\u001b[39m_backward_hooks \u001b[39mor\u001b[39;00m \u001b[39mself\u001b[39m\u001b[39m.\u001b[39m_backward_pre_hooks \u001b[39mor\u001b[39;00m \u001b[39mself\u001b[39m\u001b[39m.\u001b[39m_forward_hooks \u001b[39mor\u001b[39;00m \u001b[39mself\u001b[39m\u001b[39m.\u001b[39m_forward_pre_hooks\n\u001b[1;32m   1499\u001b[0m         \u001b[39mor\u001b[39;00m _global_backward_pre_hooks \u001b[39mor\u001b[39;00m _global_backward_hooks\n\u001b[1;32m   1500\u001b[0m         \u001b[39mor\u001b[39;00m _global_forward_hooks \u001b[39mor\u001b[39;00m _global_forward_pre_hooks):\n\u001b[0;32m-> 1501\u001b[0m     \u001b[39mreturn\u001b[39;00m forward_call(\u001b[39m*\u001b[39;49margs, \u001b[39m*\u001b[39;49m\u001b[39m*\u001b[39;49mkwargs)\n\u001b[1;32m   1502\u001b[0m \u001b[39m# Do not call functions when jit is used\u001b[39;00m\n\u001b[1;32m   1503\u001b[0m full_backward_hooks, non_full_backward_hooks \u001b[39m=\u001b[39m [], []\n",
      "File \u001b[0;32m~/Codes/U-DCI/layers/graphsage.py:13\u001b[0m, in \u001b[0;36mGraphSAGELayer.forward\u001b[0;34m(self, x, adj)\u001b[0m\n\u001b[1;32m     12\u001b[0m \u001b[39mdef\u001b[39;00m \u001b[39mforward\u001b[39m(\u001b[39mself\u001b[39m, x, adj):\n\u001b[0;32m---> 13\u001b[0m     h \u001b[39m=\u001b[39m \u001b[39mself\u001b[39;49m\u001b[39m.\u001b[39;49mW(x)  \u001b[39m# Apply linear transformation\u001b[39;00m\n\u001b[1;32m     15\u001b[0m     \u001b[39mif\u001b[39;00m \u001b[39mself\u001b[39m\u001b[39m.\u001b[39maggregator_type \u001b[39m==\u001b[39m \u001b[39m\"\u001b[39m\u001b[39mmean\u001b[39m\u001b[39m\"\u001b[39m:\n\u001b[1;32m     16\u001b[0m         agg_neighbor \u001b[39m=\u001b[39m torch\u001b[39m.\u001b[39mspmm(adj, h)\n",
      "File \u001b[0;32m~/Library/Python/3.9/lib/python/site-packages/torch/nn/modules/module.py:1501\u001b[0m, in \u001b[0;36mModule._call_impl\u001b[0;34m(self, *args, **kwargs)\u001b[0m\n\u001b[1;32m   1496\u001b[0m \u001b[39m# If we don't have any hooks, we want to skip the rest of the logic in\u001b[39;00m\n\u001b[1;32m   1497\u001b[0m \u001b[39m# this function, and just call forward.\u001b[39;00m\n\u001b[1;32m   1498\u001b[0m \u001b[39mif\u001b[39;00m \u001b[39mnot\u001b[39;00m (\u001b[39mself\u001b[39m\u001b[39m.\u001b[39m_backward_hooks \u001b[39mor\u001b[39;00m \u001b[39mself\u001b[39m\u001b[39m.\u001b[39m_backward_pre_hooks \u001b[39mor\u001b[39;00m \u001b[39mself\u001b[39m\u001b[39m.\u001b[39m_forward_hooks \u001b[39mor\u001b[39;00m \u001b[39mself\u001b[39m\u001b[39m.\u001b[39m_forward_pre_hooks\n\u001b[1;32m   1499\u001b[0m         \u001b[39mor\u001b[39;00m _global_backward_pre_hooks \u001b[39mor\u001b[39;00m _global_backward_hooks\n\u001b[1;32m   1500\u001b[0m         \u001b[39mor\u001b[39;00m _global_forward_hooks \u001b[39mor\u001b[39;00m _global_forward_pre_hooks):\n\u001b[0;32m-> 1501\u001b[0m     \u001b[39mreturn\u001b[39;00m forward_call(\u001b[39m*\u001b[39;49margs, \u001b[39m*\u001b[39;49m\u001b[39m*\u001b[39;49mkwargs)\n\u001b[1;32m   1502\u001b[0m \u001b[39m# Do not call functions when jit is used\u001b[39;00m\n\u001b[1;32m   1503\u001b[0m full_backward_hooks, non_full_backward_hooks \u001b[39m=\u001b[39m [], []\n",
      "File \u001b[0;32m~/Library/Python/3.9/lib/python/site-packages/torch/nn/modules/linear.py:114\u001b[0m, in \u001b[0;36mLinear.forward\u001b[0;34m(self, input)\u001b[0m\n\u001b[1;32m    113\u001b[0m \u001b[39mdef\u001b[39;00m \u001b[39mforward\u001b[39m(\u001b[39mself\u001b[39m, \u001b[39minput\u001b[39m: Tensor) \u001b[39m-\u001b[39m\u001b[39m>\u001b[39m Tensor:\n\u001b[0;32m--> 114\u001b[0m     \u001b[39mreturn\u001b[39;00m F\u001b[39m.\u001b[39;49mlinear(\u001b[39minput\u001b[39;49m, \u001b[39mself\u001b[39;49m\u001b[39m.\u001b[39;49mweight, \u001b[39mself\u001b[39;49m\u001b[39m.\u001b[39;49mbias)\n",
      "\u001b[0;31mRuntimeError\u001b[0m: mat1 and mat2 must have the same dtype"
     ]
    }
   ],
   "source": [
    "# pre-training process\n",
    "progress_bar = tqdm(total = config_udci['epochs'])\n",
    "for epoch in range(1, config_udci['epochs'] + 1):\n",
    "    model_pretrain.train()\n",
    "    loss_pretrain = model_pretrain(feats, shuf_feats, adj, None, None, None, cluster_info, config_udci['num_cluster'])\n",
    "\n",
    "    if optimizer_train is not None:\n",
    "        optimizer_train.zero_grad()\n",
    "        loss_pretrain.backward()         \n",
    "        optimizer_train.step()\n",
    "        store_loss.append(loss_pretrain.item())\n",
    "    else:\n",
    "        print(f'Optimizer is none. Current epoch: {epoch}')\n",
    "    progress_bar.set_description(f'Epoch: {epoch}/{config_udci[\"epochs\"]} | Current loss: {loss_pretrain.item():.3f}')\n",
    "    progress_bar.update()\n",
    "    \n",
    "    # re-clustering\n",
    "    if epoch % config_udci['recluster_interval'] == 0 and epoch < config_udci['epochs']:\n",
    "        model_pretrain.eval()\n",
    "        emb = model_pretrain.get_emb(feats, adj)\n",
    "        kmeans = KMeans(n_clusters=config_udci['num_cluster'], random_state=0).fit(emb.detach().cpu().numpy())\n",
    "        ss_label = kmeans.labels_\n",
    "        cluster_info = [list(np.where(ss_label==i)[0]) for i in range(config_udci['num_cluster'])]\n",
    "\n",
    "print(f'Pre-training Down!')"
   ]
  },
  {
   "cell_type": "code",
   "execution_count": null,
   "metadata": {},
   "outputs": [],
   "source": [
    "#fine-tuning process\n",
    "fold_idx = 1\n",
    "every_fold_auc = []\n",
    "for (train_idx, test_idx) in split_idx: # split_idx在load data的时候就生成了\n",
    "    test_graph = (feats, adj, train_idx, test_idx, label)\n",
    "    tmp_auc = finetune(config_udci, config_emb, model_pretrain, device, test_graph, config_emb['input_dim'], config_udci['attention_scheme'])\n",
    "    every_fold_auc.append(tmp_auc)\n",
    "    print(f'AUC on the Fold {fold_idx}: {tmp_auc:.4f}')    # 会返回每种folder的auc，每个auc是模型优化后最好的auc（因为是max）\n",
    "    fold_idx += 1\n",
    "print(f'The averaged AUC score: {np.mean(every_fold_auc):.4f}')\n",
    "print(f'The std of AUC score: {np.std(every_fold_auc):.4f}')\n"
   ]
  }
 ],
 "metadata": {
  "kernelspec": {
   "display_name": "Python 3.8.5 ('DCI2')",
   "language": "python",
   "name": "python3"
  },
  "language_info": {
   "codemirror_mode": {
    "name": "ipython",
    "version": 3
   },
   "file_extension": ".py",
   "mimetype": "text/x-python",
   "name": "python",
   "nbconvert_exporter": "python",
   "pygments_lexer": "ipython3",
   "version": "3.9.6"
  },
  "orig_nbformat": 4,
  "vscode": {
   "interpreter": {
    "hash": "777d9fb9a41a5d74b9eea2435e37ef2c540b673ae74188ebd0eddfe678f8b14a"
   }
  }
 },
 "nbformat": 4,
 "nbformat_minor": 2
}
