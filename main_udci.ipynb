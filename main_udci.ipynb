{
 "cells": [
  {
   "cell_type": "code",
   "execution_count": 1,
   "metadata": {},
   "outputs": [],
   "source": [
    "import argparse\n",
    "import torch\n",
    "import torch.nn as nn\n",
    "import numpy as np\n",
    "from sklearn.cluster import KMeans\n",
    "import torch.optim as optim\n",
    "from sklearn import metrics\n",
    "from tqdm import tqdm\n",
    "\n",
    "from util import load_data, load_graph\n",
    "from models.udci import U_DCI\n",
    "from models.clf_model import Classifier"
   ]
  },
  {
   "cell_type": "code",
   "execution_count": 2,
   "metadata": {},
   "outputs": [],
   "source": [
    "def setup_seed(seed):\n",
    "    np.random.seed(seed)\n",
    "    torch.manual_seed(seed)\n",
    "    torch.cuda.manual_seed_all(seed)\n",
    "    torch.backends.cudnn.deterministic = True\n",
    "    torch.backends.cudnn.benchmark = True\n"
   ]
  },
  {
   "cell_type": "code",
   "execution_count": 3,
   "metadata": {},
   "outputs": [],
   "source": [
    "def finetune(config_udci, config_emb, model_pretrain, device, test_graph, feats_num):\n",
    "    model = Classifier(config_udci['emb_module'], config_udci['hidden_dim'], config_udci['final_dropout'], config_emb, device).to(device)\n",
    "    # emb_module, hidden_dim, final_dropout, config_emb\n",
    "    # replace the encoder in joint model with the pre-trained encoder，把外面训练好的CDI导进来，这个视角encoder吗\n",
    "    pretrained_dict = model_pretrain.state_dict()   # state_dict()是pytorch里调用所有参数信息的函数，这里是把DCI的参数信息存起来\n",
    "    model_dict = model.state_dict() #这里就是吧Classifier的参数信息存起来\n",
    "    pretrained_dict =  {k: v for k, v in pretrained_dict.items() if k in model_dict}    # 只留下Classifier里有的字段的DCI的参数信息，为了防止下一步错叭\n",
    "    model_dict.update(pretrained_dict)  # 这两步就是把Classifier的参数信息更新成DCI的参数信息\n",
    "    model.load_state_dict(model_dict)\n",
    "\n",
    "    optimizer = optim.Adam(model.parameters(), config_udci['lr'])  # 优化器的意思应该是反向传播的那个，不要纠结细节上次学过了虽然我知道你忘了\n",
    "    \n",
    "    criterion_tune = nn.BCEWithLogitsLoss() # 二分类的交叉熵损失函数\n",
    "\n",
    "    res = []\n",
    "    train_idx = test_graph[2]\n",
    "    node_train = test_graph[-1][train_idx, 0].astype('int')\n",
    "    label_train = torch.FloatTensor(test_graph[-1][train_idx, 1]).to(device)\n",
    "    progress_bar2 = tqdm(total = config_udci['finetune_epochs'])\n",
    "    for i in range(1, config_udci['finetune_epochs']+1):  # 这一段应该就是在训练\n",
    "        model.train()\n",
    "        output = model(test_graph[0], test_graph[1])\n",
    "        loss = criterion_tune(output[node_train], torch.reshape(label_train, (-1, 1)))\n",
    "        \n",
    "        #backprop\n",
    "        if optimizer is not None:\n",
    "            optimizer.zero_grad()\n",
    "            loss.backward()\n",
    "            optimizer.step()\n",
    "\n",
    "        progress_bar2.set_description(f'Epoch: {i}/{config_udci[\"finetune_epochs\"]}')\n",
    "        progress_bar2.update()\n",
    "        \n",
    "        # testing\n",
    "        model.eval()    # 设成eval模式\n",
    "        auc = evaluate(model, test_graph)\n",
    "        res.append(auc)\n",
    "\n",
    "    return np.max(res)  # 返回最大的auc"
   ]
  },
  {
   "cell_type": "code",
   "execution_count": 4,
   "metadata": {},
   "outputs": [],
   "source": [
    "def evaluate(model, test_graph):\n",
    "    output = model(test_graph[0], test_graph[1])    #预测结果，其中0和1分别是adj和features，顺序记得确认一下\n",
    "    pred = sig(output.detach().cpu())   # 用激活函数压缩一下然后结果传到cpu上\n",
    "    test_idx = test_graph[3]    # 这个idx具体指什么要看model，我猜是abnormal data的idx\n",
    "    \n",
    "    labels = test_graph[-1] # 那么labels我猜就是abnormal data的label\n",
    "    pred = pred[labels[test_idx, 0].astype('int')].numpy()  # 不知道了这里回头再来看吧\n",
    "    target = labels[test_idx, 1]\n",
    "    \n",
    "    false_positive_rate, true_positive_rate, _ = metrics.roc_curve(target, pred, pos_label=1)\n",
    "    auc = metrics.auc(false_positive_rate, true_positive_rate)  # auc越接近1越好\n",
    "\n",
    "    return auc"
   ]
  },
  {
   "cell_type": "code",
   "execution_count": 5,
   "metadata": {},
   "outputs": [],
   "source": [
    "# set parameters for U_DCI\n",
    "config_udci = {\n",
    "    'dataset': 'wiki',              # name of dataset\n",
    "    'device': 0,                    # which gpu to use if any\n",
    "    'epochs': 50,                   # number of epochs in pre-training stage\n",
    "    'num_cluster': 2,               # number of clusters in pre-training stage\n",
    "    'recluster_interval': 10,       # recluster interval in pre-training stage\n",
    "    'finetune_epochs': 1,         # number of epochs in finetune stage\n",
    "    'num_folds': 5,                # number of folds in cross validation of finetune stage\n",
    "    'final_dropout': 0.5,           # dropout rate used in finetune stage\n",
    "    'lr': 0.01,                     # learning rate used in optimizer\n",
    "    'hidden_dim': 16,               # number of hidden dims, used in Discriminator\n",
    "    'training_scheme': 'decoupled', # 'decoupled' or 'joint'\n",
    "    'emb_module': 'U_GCN'           # 'U_GCN', 'GIN'\n",
    "}"
   ]
  },
  {
   "cell_type": "code",
   "execution_count": 6,
   "metadata": {},
   "outputs": [],
   "source": [
    "# set hyperparameters for embedding module\n",
    "\n",
    "#U_GCN\n",
    "if config_udci['emb_module'] == 'U_GCN':\n",
    "    config_emb = {\n",
    "        # 'in_features': 64,      # number of initial feature dims, used in GraphAttention\n",
    "        'out_features': 16,     # number of feature dims generated by one attention head, used in GraphAttention\n",
    "        'alpha': 0.2,           # slope of leakyReLU, used in GraphAttention\n",
    "        'final_features': 16,   # number of feature dims integrated out of all attention heads, used in GraphAttention\n",
    "        'dropout': 0.6,         # customized dropout rate, used in GraphAttention & GAT\n",
    "        'nheads': 8             # number of attetnion heads, used in GAT\n",
    "        \n",
    "    }\n",
    "\n",
    "# GIN\n",
    "elif config_udci['emb_module'] == 'GIN':\n",
    "    config_emb = {\n",
    "        'num_layers': 2,\n",
    "        'num_mlp_layers': 2,\n",
    "        'hidden_dim': 16,\n",
    "        'neighbor_pooling_type': 'sum'\n",
    "    }"
   ]
  },
  {
   "cell_type": "code",
   "execution_count": 7,
   "metadata": {},
   "outputs": [
    {
     "name": "stdout",
     "output_type": "stream",
     "text": [
      "Load the edge_index done!\n",
      "Ratio of fraudsters:  0.026376564969004496\n",
      "Number of edges:  18257\n",
      "Number of users:  8227\n",
      "Number of objects:  1000\n",
      "Number of nodes:  9227\n"
     ]
    }
   ],
   "source": [
    "sig = torch.nn.Sigmoid()\n",
    "setup_seed(0)\n",
    "device = torch.device('cuda' if torch.cuda.is_available() else 'cpu')\n",
    "\n",
    "edge_index, feats, split_idx, label, nb_nodes = load_data(config_udci['dataset'], config_udci['num_folds'])\n",
    "config_emb['input_dim'] = feats.shape[1]\n",
    "\n",
    "kmeans = KMeans(n_clusters=config_udci['num_cluster'], random_state=0).fit(feats)\n",
    "ss_label = kmeans.labels_\n",
    "cluster_info = [list(np.where(ss_label==i)[0]) for i in range(config_udci['num_cluster'])]\n",
    "\n",
    "idx = np.random.permutation(nb_nodes)\n",
    "shuf_feats = feats[idx, :]\n",
    "\n",
    "adj = load_graph(torch.LongTensor(edge_index), nb_nodes, config_udci['emb_module'], device)\n",
    "feats = torch.FloatTensor(feats).to(device)\n",
    "shuf_feats = torch.FloatTensor(shuf_feats).to(device)"
   ]
  },
  {
   "cell_type": "code",
   "execution_count": 8,
   "metadata": {},
   "outputs": [],
   "source": [
    "model_pretrain = U_DCI(config_udci['emb_module'], config_udci['hidden_dim'], config_emb, device).to(device)\n",
    "optimizer_train = optim.Adam(model_pretrain.parameters(), lr=config_udci['lr'])\n",
    "\n",
    "store_loss = []\n"
   ]
  },
  {
   "cell_type": "code",
   "execution_count": 9,
   "metadata": {},
   "outputs": [
    {
     "name": "stderr",
     "output_type": "stream",
     "text": [
      "Epoch: 1/1 | Current loss: 0.699: 100%|██████████| 1/1 [00:51<00:00, 51.44s/it]"
     ]
    },
    {
     "name": "stdout",
     "output_type": "stream",
     "text": [
      "Pre-training Down!\n"
     ]
    }
   ],
   "source": [
    "# pre-training process\n",
    "progress_bar = tqdm(total = config_udci['epochs'])\n",
    "for epoch in range(1, config_udci['epochs'] + 1):\n",
    "    model_pretrain.train()\n",
    "    loss_pretrain = model_pretrain(feats, shuf_feats, adj, None, None, None, cluster_info, config_udci['num_cluster'])\n",
    "    if optimizer_train is not None:\n",
    "        optimizer_train.zero_grad()\n",
    "        loss_pretrain.backward()         \n",
    "        optimizer_train.step()\n",
    "        store_loss.append(loss_pretrain.item())\n",
    "    else:\n",
    "        print(f'Optimizer is none. Current epoch: {epoch}')\n",
    "    progress_bar.set_description(f'Epoch: {epoch}/{config_udci[\"epochs\"]} | Current loss: {loss_pretrain.item():.3f}')\n",
    "    progress_bar.update()\n",
    "    \n",
    "    # re-clustering\n",
    "    if epoch % config_udci['recluster_interval'] == 0 and epoch < config_udci['epochs']:\n",
    "        model_pretrain.eval()\n",
    "        emb = model_pretrain.get_emb(feats, adj)\n",
    "        kmeans = KMeans(n_clusters=config_udci['num_cluster'], random_state=0).fit(emb.detach().cpu().numpy())\n",
    "        ss_label = kmeans.labels_\n",
    "        cluster_info = [list(np.where(ss_label==i)[0]) for i in range(config_udci['num_cluster'])]\n",
    "\n",
    "print(f'Pre-training Down!')"
   ]
  },
  {
   "cell_type": "code",
   "execution_count": 10,
   "metadata": {},
   "outputs": [
    {
     "name": "stderr",
     "output_type": "stream",
     "text": [
      "Epoch: 1/1: 100%|██████████| 1/1 [00:28<00:00, 28.69s/it]\n"
     ]
    },
    {
     "name": "stdout",
     "output_type": "stream",
     "text": [
      "AUC on the Fold1:  0.5\n"
     ]
    },
    {
     "name": "stderr",
     "output_type": "stream",
     "text": [
      "Epoch: 1/1: 100%|██████████| 1/1 [00:28<00:00, 28.16s/it]\n"
     ]
    },
    {
     "name": "stdout",
     "output_type": "stream",
     "text": [
      "AUC on the Fold2:  0.5\n"
     ]
    },
    {
     "name": "stderr",
     "output_type": "stream",
     "text": [
      "Epoch: 1/1: 100%|██████████| 1/1 [00:28<00:00, 28.00s/it]\n"
     ]
    },
    {
     "name": "stdout",
     "output_type": "stream",
     "text": [
      "AUC on the Fold3:  0.5\n"
     ]
    },
    {
     "name": "stderr",
     "output_type": "stream",
     "text": [
      "Epoch: 1/1: 100%|██████████| 1/1 [00:27<00:00, 27.91s/it]\n"
     ]
    },
    {
     "name": "stdout",
     "output_type": "stream",
     "text": [
      "AUC on the Fold4:  0.5\n"
     ]
    },
    {
     "name": "stderr",
     "output_type": "stream",
     "text": [
      "Epoch: 1/1: 100%|██████████| 1/1 [00:27<00:00, 27.92s/it]\n"
     ]
    },
    {
     "name": "stdout",
     "output_type": "stream",
     "text": [
      "AUC on the Fold5:  0.5\n"
     ]
    },
    {
     "name": "stderr",
     "output_type": "stream",
     "text": [
      "Epoch: 1/1: 100%|██████████| 1/1 [00:27<00:00, 27.58s/it]\n"
     ]
    },
    {
     "name": "stdout",
     "output_type": "stream",
     "text": [
      "AUC on the Fold6:  0.5\n"
     ]
    },
    {
     "name": "stderr",
     "output_type": "stream",
     "text": []
    },
    {
     "ename": "KeyboardInterrupt",
     "evalue": "",
     "output_type": "error",
     "traceback": [
      "\u001b[1;31m---------------------------------------------------------------------------\u001b[0m",
      "\u001b[1;31mKeyboardInterrupt\u001b[0m                         Traceback (most recent call last)",
      "\u001b[1;32mc:\\Users\\jz22185\\OneDrive - University of Bristol\\DCI-Fintech\\main_udci.ipynb Cell 10\u001b[0m in \u001b[0;36m<cell line: 4>\u001b[1;34m()\u001b[0m\n\u001b[0;32m      <a href='vscode-notebook-cell:/c%3A/Users/jz22185/OneDrive%20-%20University%20of%20Bristol/DCI-Fintech/main_udci.ipynb#ch0000009?line=3'>4</a>\u001b[0m \u001b[39mfor\u001b[39;00m (train_idx, test_idx) \u001b[39min\u001b[39;00m split_idx: \u001b[39m# split_idx在load data的时候就生成了\u001b[39;00m\n\u001b[0;32m      <a href='vscode-notebook-cell:/c%3A/Users/jz22185/OneDrive%20-%20University%20of%20Bristol/DCI-Fintech/main_udci.ipynb#ch0000009?line=4'>5</a>\u001b[0m     test_graph \u001b[39m=\u001b[39m (feats, adj, train_idx, test_idx, label)\n\u001b[1;32m----> <a href='vscode-notebook-cell:/c%3A/Users/jz22185/OneDrive%20-%20University%20of%20Bristol/DCI-Fintech/main_udci.ipynb#ch0000009?line=5'>6</a>\u001b[0m     tmp_auc \u001b[39m=\u001b[39m finetune(config_udci, config_emb, model_pretrain, device, test_graph, config_emb[\u001b[39m'\u001b[39;49m\u001b[39minput_dim\u001b[39;49m\u001b[39m'\u001b[39;49m])\n\u001b[0;32m      <a href='vscode-notebook-cell:/c%3A/Users/jz22185/OneDrive%20-%20University%20of%20Bristol/DCI-Fintech/main_udci.ipynb#ch0000009?line=6'>7</a>\u001b[0m     every_fold_auc\u001b[39m.\u001b[39mappend(tmp_auc)\n\u001b[0;32m      <a href='vscode-notebook-cell:/c%3A/Users/jz22185/OneDrive%20-%20University%20of%20Bristol/DCI-Fintech/main_udci.ipynb#ch0000009?line=7'>8</a>\u001b[0m     \u001b[39mprint\u001b[39m(\u001b[39m'\u001b[39m\u001b[39mAUC on the Fold\u001b[39m\u001b[39m'\u001b[39m\u001b[39m+\u001b[39m\u001b[39mstr\u001b[39m(fold_idx)\u001b[39m+\u001b[39m\u001b[39m'\u001b[39m\u001b[39m: \u001b[39m\u001b[39m'\u001b[39m, tmp_auc)    \u001b[39m# 会返回每种folder的auc，每个auc是模型优化后最好的auc（因为是max）\u001b[39;00m\n",
      "\u001b[1;32mc:\\Users\\jz22185\\OneDrive - University of Bristol\\DCI-Fintech\\main_udci.ipynb Cell 10\u001b[0m in \u001b[0;36mfinetune\u001b[1;34m(config_udci, config_emb, model_pretrain, device, test_graph, feats_num)\u001b[0m\n\u001b[0;32m     <a href='vscode-notebook-cell:/c%3A/Users/jz22185/OneDrive%20-%20University%20of%20Bristol/DCI-Fintech/main_udci.ipynb#ch0000009?line=19'>20</a>\u001b[0m \u001b[39mfor\u001b[39;00m i \u001b[39min\u001b[39;00m \u001b[39mrange\u001b[39m(\u001b[39m1\u001b[39m, config_udci[\u001b[39m'\u001b[39m\u001b[39mfinetune_epochs\u001b[39m\u001b[39m'\u001b[39m]\u001b[39m+\u001b[39m\u001b[39m1\u001b[39m):  \u001b[39m# 这一段应该就是在训练\u001b[39;00m\n\u001b[0;32m     <a href='vscode-notebook-cell:/c%3A/Users/jz22185/OneDrive%20-%20University%20of%20Bristol/DCI-Fintech/main_udci.ipynb#ch0000009?line=20'>21</a>\u001b[0m     model\u001b[39m.\u001b[39mtrain()\n\u001b[1;32m---> <a href='vscode-notebook-cell:/c%3A/Users/jz22185/OneDrive%20-%20University%20of%20Bristol/DCI-Fintech/main_udci.ipynb#ch0000009?line=21'>22</a>\u001b[0m     output \u001b[39m=\u001b[39m model(test_graph[\u001b[39m0\u001b[39;49m], test_graph[\u001b[39m1\u001b[39;49m])\n\u001b[0;32m     <a href='vscode-notebook-cell:/c%3A/Users/jz22185/OneDrive%20-%20University%20of%20Bristol/DCI-Fintech/main_udci.ipynb#ch0000009?line=22'>23</a>\u001b[0m     loss \u001b[39m=\u001b[39m criterion_tune(output[node_train], torch\u001b[39m.\u001b[39mreshape(label_train, (\u001b[39m-\u001b[39m\u001b[39m1\u001b[39m, \u001b[39m1\u001b[39m)))\n\u001b[0;32m     <a href='vscode-notebook-cell:/c%3A/Users/jz22185/OneDrive%20-%20University%20of%20Bristol/DCI-Fintech/main_udci.ipynb#ch0000009?line=24'>25</a>\u001b[0m     \u001b[39m#backprop\u001b[39;00m\n",
      "File \u001b[1;32m~\\AppData\\Roaming\\Python\\Python39\\site-packages\\torch\\nn\\modules\\module.py:1501\u001b[0m, in \u001b[0;36mModule._call_impl\u001b[1;34m(self, *args, **kwargs)\u001b[0m\n\u001b[0;32m   1496\u001b[0m \u001b[39m# If we don't have any hooks, we want to skip the rest of the logic in\u001b[39;00m\n\u001b[0;32m   1497\u001b[0m \u001b[39m# this function, and just call forward.\u001b[39;00m\n\u001b[0;32m   1498\u001b[0m \u001b[39mif\u001b[39;00m \u001b[39mnot\u001b[39;00m (\u001b[39mself\u001b[39m\u001b[39m.\u001b[39m_backward_hooks \u001b[39mor\u001b[39;00m \u001b[39mself\u001b[39m\u001b[39m.\u001b[39m_backward_pre_hooks \u001b[39mor\u001b[39;00m \u001b[39mself\u001b[39m\u001b[39m.\u001b[39m_forward_hooks \u001b[39mor\u001b[39;00m \u001b[39mself\u001b[39m\u001b[39m.\u001b[39m_forward_pre_hooks\n\u001b[0;32m   1499\u001b[0m         \u001b[39mor\u001b[39;00m _global_backward_pre_hooks \u001b[39mor\u001b[39;00m _global_backward_hooks\n\u001b[0;32m   1500\u001b[0m         \u001b[39mor\u001b[39;00m _global_forward_hooks \u001b[39mor\u001b[39;00m _global_forward_pre_hooks):\n\u001b[1;32m-> 1501\u001b[0m     \u001b[39mreturn\u001b[39;00m forward_call(\u001b[39m*\u001b[39margs, \u001b[39m*\u001b[39m\u001b[39m*\u001b[39mkwargs)\n\u001b[0;32m   1502\u001b[0m \u001b[39m# Do not call functions when jit is used\u001b[39;00m\n\u001b[0;32m   1503\u001b[0m full_backward_hooks, non_full_backward_hooks \u001b[39m=\u001b[39m [], []\n",
      "File \u001b[1;32mc:\\Users\\jz22185\\OneDrive - University of Bristol\\DCI-Fintech\\models\\clf_model.py:53\u001b[0m, in \u001b[0;36mClassifier.forward\u001b[1;34m(self, feats, adj)\u001b[0m\n\u001b[0;32m     52\u001b[0m \u001b[39mdef\u001b[39;00m \u001b[39mforward\u001b[39m(\u001b[39mself\u001b[39m, feats, adj):\n\u001b[1;32m---> 53\u001b[0m     h_1 \u001b[39m=\u001b[39m \u001b[39mself\u001b[39;49m\u001b[39m.\u001b[39;49memb_module(feats, adj)\n\u001b[0;32m     54\u001b[0m     score_final_layer \u001b[39m=\u001b[39m F\u001b[39m.\u001b[39mdropout(\u001b[39mself\u001b[39m\u001b[39m.\u001b[39mlinear_prediction(h_1), \u001b[39mself\u001b[39m\u001b[39m.\u001b[39mfinal_dropout, training \u001b[39m=\u001b[39m \u001b[39mself\u001b[39m\u001b[39m.\u001b[39mtraining)\n\u001b[0;32m     55\u001b[0m     \u001b[39mreturn\u001b[39;00m score_final_layer\n",
      "File \u001b[1;32m~\\AppData\\Roaming\\Python\\Python39\\site-packages\\torch\\nn\\modules\\module.py:1501\u001b[0m, in \u001b[0;36mModule._call_impl\u001b[1;34m(self, *args, **kwargs)\u001b[0m\n\u001b[0;32m   1496\u001b[0m \u001b[39m# If we don't have any hooks, we want to skip the rest of the logic in\u001b[39;00m\n\u001b[0;32m   1497\u001b[0m \u001b[39m# this function, and just call forward.\u001b[39;00m\n\u001b[0;32m   1498\u001b[0m \u001b[39mif\u001b[39;00m \u001b[39mnot\u001b[39;00m (\u001b[39mself\u001b[39m\u001b[39m.\u001b[39m_backward_hooks \u001b[39mor\u001b[39;00m \u001b[39mself\u001b[39m\u001b[39m.\u001b[39m_backward_pre_hooks \u001b[39mor\u001b[39;00m \u001b[39mself\u001b[39m\u001b[39m.\u001b[39m_forward_hooks \u001b[39mor\u001b[39;00m \u001b[39mself\u001b[39m\u001b[39m.\u001b[39m_forward_pre_hooks\n\u001b[0;32m   1499\u001b[0m         \u001b[39mor\u001b[39;00m _global_backward_pre_hooks \u001b[39mor\u001b[39;00m _global_backward_hooks\n\u001b[0;32m   1500\u001b[0m         \u001b[39mor\u001b[39;00m _global_forward_hooks \u001b[39mor\u001b[39;00m _global_forward_pre_hooks):\n\u001b[1;32m-> 1501\u001b[0m     \u001b[39mreturn\u001b[39;00m forward_call(\u001b[39m*\u001b[39margs, \u001b[39m*\u001b[39m\u001b[39m*\u001b[39mkwargs)\n\u001b[0;32m   1502\u001b[0m \u001b[39m# Do not call functions when jit is used\u001b[39;00m\n\u001b[0;32m   1503\u001b[0m full_backward_hooks, non_full_backward_hooks \u001b[39m=\u001b[39m [], []\n",
      "File \u001b[1;32mc:\\Users\\jz22185\\OneDrive - University of Bristol\\DCI-Fintech\\layers\\ugcn.py:26\u001b[0m, in \u001b[0;36mU_GCN.forward\u001b[1;34m(self, feature, adj)\u001b[0m\n\u001b[0;32m     24\u001b[0m \u001b[39mdef\u001b[39;00m \u001b[39mforward\u001b[39m(\u001b[39mself\u001b[39m, feature, adj):\n\u001b[0;32m     25\u001b[0m     emb1 \u001b[39m=\u001b[39m \u001b[39mself\u001b[39m\u001b[39m.\u001b[39mSGAT1(feature, adj[\u001b[39m0\u001b[39m]) \n\u001b[1;32m---> 26\u001b[0m     emb2 \u001b[39m=\u001b[39m \u001b[39mself\u001b[39;49m\u001b[39m.\u001b[39;49mSGAT2(feature, adj[\u001b[39m1\u001b[39;49m])\n\u001b[0;32m     27\u001b[0m     emb \u001b[39m=\u001b[39m torch\u001b[39m.\u001b[39mstack([emb1, emb2], dim\u001b[39m=\u001b[39m\u001b[39m1\u001b[39m)\n\u001b[0;32m     28\u001b[0m     emb, att \u001b[39m=\u001b[39m \u001b[39mself\u001b[39m\u001b[39m.\u001b[39mattention(emb)\n",
      "File \u001b[1;32m~\\AppData\\Roaming\\Python\\Python39\\site-packages\\torch\\nn\\modules\\module.py:1501\u001b[0m, in \u001b[0;36mModule._call_impl\u001b[1;34m(self, *args, **kwargs)\u001b[0m\n\u001b[0;32m   1496\u001b[0m \u001b[39m# If we don't have any hooks, we want to skip the rest of the logic in\u001b[39;00m\n\u001b[0;32m   1497\u001b[0m \u001b[39m# this function, and just call forward.\u001b[39;00m\n\u001b[0;32m   1498\u001b[0m \u001b[39mif\u001b[39;00m \u001b[39mnot\u001b[39;00m (\u001b[39mself\u001b[39m\u001b[39m.\u001b[39m_backward_hooks \u001b[39mor\u001b[39;00m \u001b[39mself\u001b[39m\u001b[39m.\u001b[39m_backward_pre_hooks \u001b[39mor\u001b[39;00m \u001b[39mself\u001b[39m\u001b[39m.\u001b[39m_forward_hooks \u001b[39mor\u001b[39;00m \u001b[39mself\u001b[39m\u001b[39m.\u001b[39m_forward_pre_hooks\n\u001b[0;32m   1499\u001b[0m         \u001b[39mor\u001b[39;00m _global_backward_pre_hooks \u001b[39mor\u001b[39;00m _global_backward_hooks\n\u001b[0;32m   1500\u001b[0m         \u001b[39mor\u001b[39;00m _global_forward_hooks \u001b[39mor\u001b[39;00m _global_forward_pre_hooks):\n\u001b[1;32m-> 1501\u001b[0m     \u001b[39mreturn\u001b[39;00m forward_call(\u001b[39m*\u001b[39margs, \u001b[39m*\u001b[39m\u001b[39m*\u001b[39mkwargs)\n\u001b[0;32m   1502\u001b[0m \u001b[39m# Do not call functions when jit is used\u001b[39;00m\n\u001b[0;32m   1503\u001b[0m full_backward_hooks, non_full_backward_hooks \u001b[39m=\u001b[39m [], []\n",
      "File \u001b[1;32mc:\\Users\\jz22185\\OneDrive - University of Bristol\\DCI-Fintech\\layers\\gat.py:21\u001b[0m, in \u001b[0;36mGAT.forward\u001b[1;34m(self, x, adj)\u001b[0m\n\u001b[0;32m     19\u001b[0m \u001b[39mdef\u001b[39;00m \u001b[39mforward\u001b[39m(\u001b[39mself\u001b[39m, x, adj):\n\u001b[0;32m     20\u001b[0m     x \u001b[39m=\u001b[39m F\u001b[39m.\u001b[39mdropout(x, \u001b[39mself\u001b[39m\u001b[39m.\u001b[39mdropout, training\u001b[39m=\u001b[39m\u001b[39mself\u001b[39m\u001b[39m.\u001b[39mtraining)\n\u001b[1;32m---> 21\u001b[0m     x \u001b[39m=\u001b[39m torch\u001b[39m.\u001b[39mcat([att(x, adj) \u001b[39mfor\u001b[39;00m att \u001b[39min\u001b[39;00m \u001b[39mself\u001b[39m\u001b[39m.\u001b[39mattentions], dim\u001b[39m=\u001b[39m\u001b[39m1\u001b[39m)\n\u001b[0;32m     23\u001b[0m     x \u001b[39m=\u001b[39m F\u001b[39m.\u001b[39mdropout(x, \u001b[39mself\u001b[39m\u001b[39m.\u001b[39mdropout, training\u001b[39m=\u001b[39m\u001b[39mself\u001b[39m\u001b[39m.\u001b[39mtraining)\n\u001b[0;32m     24\u001b[0m     x \u001b[39m=\u001b[39m F\u001b[39m.\u001b[39melu(\u001b[39mself\u001b[39m\u001b[39m.\u001b[39mout_att(x, adj))\n",
      "File \u001b[1;32mc:\\Users\\jz22185\\OneDrive - University of Bristol\\DCI-Fintech\\layers\\gat.py:21\u001b[0m, in \u001b[0;36m<listcomp>\u001b[1;34m(.0)\u001b[0m\n\u001b[0;32m     19\u001b[0m \u001b[39mdef\u001b[39;00m \u001b[39mforward\u001b[39m(\u001b[39mself\u001b[39m, x, adj):\n\u001b[0;32m     20\u001b[0m     x \u001b[39m=\u001b[39m F\u001b[39m.\u001b[39mdropout(x, \u001b[39mself\u001b[39m\u001b[39m.\u001b[39mdropout, training\u001b[39m=\u001b[39m\u001b[39mself\u001b[39m\u001b[39m.\u001b[39mtraining)\n\u001b[1;32m---> 21\u001b[0m     x \u001b[39m=\u001b[39m torch\u001b[39m.\u001b[39mcat([att(x, adj) \u001b[39mfor\u001b[39;00m att \u001b[39min\u001b[39;00m \u001b[39mself\u001b[39m\u001b[39m.\u001b[39mattentions], dim\u001b[39m=\u001b[39m\u001b[39m1\u001b[39m)\n\u001b[0;32m     23\u001b[0m     x \u001b[39m=\u001b[39m F\u001b[39m.\u001b[39mdropout(x, \u001b[39mself\u001b[39m\u001b[39m.\u001b[39mdropout, training\u001b[39m=\u001b[39m\u001b[39mself\u001b[39m\u001b[39m.\u001b[39mtraining)\n\u001b[0;32m     24\u001b[0m     x \u001b[39m=\u001b[39m F\u001b[39m.\u001b[39melu(\u001b[39mself\u001b[39m\u001b[39m.\u001b[39mout_att(x, adj))\n",
      "File \u001b[1;32m~\\AppData\\Roaming\\Python\\Python39\\site-packages\\torch\\nn\\modules\\module.py:1501\u001b[0m, in \u001b[0;36mModule._call_impl\u001b[1;34m(self, *args, **kwargs)\u001b[0m\n\u001b[0;32m   1496\u001b[0m \u001b[39m# If we don't have any hooks, we want to skip the rest of the logic in\u001b[39;00m\n\u001b[0;32m   1497\u001b[0m \u001b[39m# this function, and just call forward.\u001b[39;00m\n\u001b[0;32m   1498\u001b[0m \u001b[39mif\u001b[39;00m \u001b[39mnot\u001b[39;00m (\u001b[39mself\u001b[39m\u001b[39m.\u001b[39m_backward_hooks \u001b[39mor\u001b[39;00m \u001b[39mself\u001b[39m\u001b[39m.\u001b[39m_backward_pre_hooks \u001b[39mor\u001b[39;00m \u001b[39mself\u001b[39m\u001b[39m.\u001b[39m_forward_hooks \u001b[39mor\u001b[39;00m \u001b[39mself\u001b[39m\u001b[39m.\u001b[39m_forward_pre_hooks\n\u001b[0;32m   1499\u001b[0m         \u001b[39mor\u001b[39;00m _global_backward_pre_hooks \u001b[39mor\u001b[39;00m _global_backward_hooks\n\u001b[0;32m   1500\u001b[0m         \u001b[39mor\u001b[39;00m _global_forward_hooks \u001b[39mor\u001b[39;00m _global_forward_pre_hooks):\n\u001b[1;32m-> 1501\u001b[0m     \u001b[39mreturn\u001b[39;00m forward_call(\u001b[39m*\u001b[39margs, \u001b[39m*\u001b[39m\u001b[39m*\u001b[39mkwargs)\n\u001b[0;32m   1502\u001b[0m \u001b[39m# Do not call functions when jit is used\u001b[39;00m\n\u001b[0;32m   1503\u001b[0m full_backward_hooks, non_full_backward_hooks \u001b[39m=\u001b[39m [], []\n",
      "\u001b[1;31mKeyboardInterrupt\u001b[0m: "
     ]
    }
   ],
   "source": [
    "#fine-tuning process\n",
    "fold_idx = 1\n",
    "every_fold_auc = []\n",
    "for (train_idx, test_idx) in split_idx: # split_idx在load data的时候就生成了\n",
    "    test_graph = (feats, adj, train_idx, test_idx, label)\n",
    "    tmp_auc = finetune(config_udci, config_emb, model_pretrain, device, test_graph, config_emb['input_dim'])\n",
    "    every_fold_auc.append(tmp_auc)\n",
    "    print('AUC on the Fold'+str(fold_idx)+': ', tmp_auc)    # 会返回每种folder的auc，每个auc是模型优化后最好的auc（因为是max）\n",
    "    fold_idx += 1\n",
    "print('The averaged AUC score: ', np.mean(every_fold_auc))\n"
   ]
  }
 ],
 "metadata": {
  "kernelspec": {
   "display_name": "Python 3.9.12 ('base')",
   "language": "python",
   "name": "python3"
  },
  "language_info": {
   "codemirror_mode": {
    "name": "ipython",
    "version": 3
   },
   "file_extension": ".py",
   "mimetype": "text/x-python",
   "name": "python",
   "nbconvert_exporter": "python",
   "pygments_lexer": "ipython3",
   "version": "3.9.12"
  },
  "orig_nbformat": 4,
  "vscode": {
   "interpreter": {
    "hash": "ad2bdc8ecc057115af97d19610ffacc2b4e99fae6737bb82f5d7fb13d2f2c186"
   }
  }
 },
 "nbformat": 4,
 "nbformat_minor": 2
}
